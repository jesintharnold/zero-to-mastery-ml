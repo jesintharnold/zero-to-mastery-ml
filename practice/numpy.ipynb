{
 "cells": [
  {
   "cell_type": "code",
   "execution_count": 41,
   "metadata": {},
   "outputs": [
    {
     "name": "stdout",
     "output_type": "stream",
     "text": [
      "1\n",
      "2\n",
      "[1 2 3 4]\n"
     ]
    }
   ],
   "source": [
    "import numpy as np\n",
    "\n",
    "# 1D array\n",
    "print(np.array([1,2,3]).ndim);\n",
    "\n",
    "#2D array\n",
    "print(np.array([[1,2,3],[4,5,6]]).ndim);\n",
    "\n",
    "#3D array\n",
    "\n",
    "_3_dim=[\n",
    "    [[1,2,3,4],[1,2,3,4],[1,2,3,4]],\n",
    "    [[1,2,3,4],[1,2,3,4],[1,2,3,4]]\n",
    "];\n",
    "\n",
    "A=np.array(_3_dim);\n",
    "\n",
    "print(A[1,1,:]);"
   ]
  },
  {
   "cell_type": "code",
   "execution_count": null,
   "metadata": {},
   "outputs": [],
   "source": []
  }
 ],
 "metadata": {
  "kernelspec": {
   "display_name": "Python 3.9.12 ('base')",
   "language": "python",
   "name": "python3"
  },
  "language_info": {
   "codemirror_mode": {
    "name": "ipython",
    "version": 3
   },
   "file_extension": ".py",
   "mimetype": "text/x-python",
   "name": "python",
   "nbconvert_exporter": "python",
   "pygments_lexer": "ipython3",
   "version": "3.9.12"
  },
  "orig_nbformat": 4,
  "vscode": {
   "interpreter": {
    "hash": "972634ce379db47b59801b90472a9331a580bc1b16dfd632b751099b21f1c24c"
   }
  }
 },
 "nbformat": 4,
 "nbformat_minor": 2
}
